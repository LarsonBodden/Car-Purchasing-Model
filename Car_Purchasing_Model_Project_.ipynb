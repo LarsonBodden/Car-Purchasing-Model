{
  "nbformat": 4,
  "nbformat_minor": 0,
  "metadata": {
    "colab": {
      "name": "Car Purchasing Model Project .ipynb",
      "provenance": [],
      "authorship_tag": "ABX9TyMQvLTeC2Jitgz/LfityMWe",
      "include_colab_link": true
    },
    "kernelspec": {
      "name": "python3",
      "display_name": "Python 3"
    },
    "language_info": {
      "name": "python"
    }
  },
  "cells": [
    {
      "cell_type": "markdown",
      "metadata": {
        "id": "view-in-github",
        "colab_type": "text"
      },
      "source": [
        "<a href=\"https://colab.research.google.com/github/LarsonBodden/Car-Purchasing-Model-Project/blob/main/Car_Purchasing_Model_Project_.ipynb\" target=\"_parent\"><img src=\"https://colab.research.google.com/assets/colab-badge.svg\" alt=\"Open In Colab\"/></a>"
      ]
    },
    {
      "cell_type": "markdown",
      "source": [
        "## Larson Bodden \n",
        "\n",
        "- Project 2\n",
        "- 8/7/22"
      ],
      "metadata": {
        "id": "Vm7MMvwc833K"
      }
    },
    {
      "cell_type": "markdown",
      "source": [
        "## Project Part 1"
      ],
      "metadata": {
        "id": "ZmZk2xwHAP0w"
      }
    },
    {
      "cell_type": "markdown",
      "source": [
        "1) Source of data\n",
        "- https://www.kaggle.com/datasets/dev0914sharma/car-purchasing-model\n",
        "\n",
        "2) Brief description of data\n",
        "- This data contain the information of the various people with the following detail which can help us to find out the better prediction and also help us to train our model to predict the correct value and get a good F1 Score.\n",
        "\n",
        "3) What is the target?\n",
        "- Car Purchase Amount\n",
        "\n",
        "4) Is this a classification or regression problem?\n",
        "- This is regression problem because i will be a predicting a discrete class label.\n",
        "\n",
        "5) How many features?\n",
        "- 6 features. I will also drop customer name and customer email because it does not add or change anything on the data set. \n",
        "\n",
        "6) How many rows of data.\n",
        "- 500 Rows\n",
        "\n",
        "7) What, if any, challenges do your foresee in cleaning, exploring, or modeling with this dataset?\n",
        "- I do not forsee any challenges"
      ],
      "metadata": {
        "id": "8OQJ8_tL9CEt"
      }
    },
    {
      "cell_type": "code",
      "source": [
        "# Mount Drive\n",
        "from google.colab import drive\n",
        "drive.mount('/content/drive')"
      ],
      "metadata": {
        "colab": {
          "base_uri": "https://localhost:8080/"
        },
        "id": "mp7tra6A_Inq",
        "outputId": "bfebb81c-5fab-4b77-d715-434dadf29a0c"
      },
      "execution_count": 230,
      "outputs": [
        {
          "output_type": "stream",
          "name": "stdout",
          "text": [
            "Drive already mounted at /content/drive; to attempt to forcibly remount, call drive.mount(\"/content/drive\", force_remount=True).\n"
          ]
        }
      ]
    },
    {
      "cell_type": "code",
      "source": [
        "# import libraries\n",
        "import matplotlib.pyplot as plt\n",
        "import seaborn as sns\n",
        "import pandas as pd\n",
        "import numpy as np\n",
        "from sklearn.metrics import accuracy_score, precision_score, recall_score, classification_report, ConfusionMatrixDisplay\n",
        "from sklearn.model_selection import train_test_split\n",
        "from sklearn.ensemble import RandomForestRegressor\n",
        "from sklearn.tree import DecisionTreeRegressor\n",
        "from sklearn.linear_model import LinearRegression\n",
        "from sklearn.preprocessing import StandardScaler\n",
        "from sklearn.model_selection import cross_val_score\n",
        "from sklearn.metrics import mean_absolute_error, mean_squared_error, r2_score"
      ],
      "metadata": {
        "id": "BOI281gv_aE0"
      },
      "execution_count": 231,
      "outputs": []
    },
    {
      "cell_type": "markdown",
      "source": [
        "## Project Part 2"
      ],
      "metadata": {
        "id": "Jor9lbLT9IRP"
      }
    },
    {
      "cell_type": "code",
      "source": [
        "# Load data from csv file\n",
        "filename = '/content/drive/MyDrive/Coding Dojo - Data Science Bootcamp/Colab Notebooks/Projects/Project 2/Car_Purchasing_Data.csv'\n",
        "df = pd.read_csv(filename)\n",
        "df.head()"
      ],
      "metadata": {
        "colab": {
          "base_uri": "https://localhost:8080/",
          "height": 204
        },
        "id": "kd2HwfA-88VO",
        "outputId": "fdeef809-78ee-44f5-a1fc-180ac5058127"
      },
      "execution_count": 232,
      "outputs": [
        {
          "output_type": "execute_result",
          "data": {
            "text/plain": [
              "     Customer Name                                    Customer e-mail Country  \\\n",
              "0    Martina Avila  cubilia.Curae.Phasellus@quisaccumsanconvallis.edu     USA   \n",
              "1    Harlan Barnes                                eu.dolor@diam.co.uk     USA   \n",
              "2  Naomi Rodriquez  vulputate.mauris.sagittis@ametconsectetueradip...     USA   \n",
              "3  Jade Cunningham                            malesuada@dignissim.com     USA   \n",
              "4     Cedric Leach     felis.ullamcorper.viverra@egetmollislectus.net     USA   \n",
              "\n",
              "   Gender  Age  Annual Salary  Credit Card Debt    Net Worth  \\\n",
              "0       0   42    62812.09301      11609.380910  238961.2505   \n",
              "1       0   41    66646.89292       9572.957136  530973.9078   \n",
              "2       1   43    53798.55112      11160.355060  638467.1773   \n",
              "3       1   58    79370.03798      14426.164850  548599.0524   \n",
              "4       1   57    59729.15130       5358.712177  560304.0671   \n",
              "\n",
              "   Car Purchase Amount  \n",
              "0          35321.45877  \n",
              "1          45115.52566  \n",
              "2          42925.70921  \n",
              "3          67422.36313  \n",
              "4          55915.46248  "
            ],
            "text/html": [
              "\n",
              "  <div id=\"df-9be671dc-ac13-433f-9806-8f3ab411df40\">\n",
              "    <div class=\"colab-df-container\">\n",
              "      <div>\n",
              "<style scoped>\n",
              "    .dataframe tbody tr th:only-of-type {\n",
              "        vertical-align: middle;\n",
              "    }\n",
              "\n",
              "    .dataframe tbody tr th {\n",
              "        vertical-align: top;\n",
              "    }\n",
              "\n",
              "    .dataframe thead th {\n",
              "        text-align: right;\n",
              "    }\n",
              "</style>\n",
              "<table border=\"1\" class=\"dataframe\">\n",
              "  <thead>\n",
              "    <tr style=\"text-align: right;\">\n",
              "      <th></th>\n",
              "      <th>Customer Name</th>\n",
              "      <th>Customer e-mail</th>\n",
              "      <th>Country</th>\n",
              "      <th>Gender</th>\n",
              "      <th>Age</th>\n",
              "      <th>Annual Salary</th>\n",
              "      <th>Credit Card Debt</th>\n",
              "      <th>Net Worth</th>\n",
              "      <th>Car Purchase Amount</th>\n",
              "    </tr>\n",
              "  </thead>\n",
              "  <tbody>\n",
              "    <tr>\n",
              "      <th>0</th>\n",
              "      <td>Martina Avila</td>\n",
              "      <td>cubilia.Curae.Phasellus@quisaccumsanconvallis.edu</td>\n",
              "      <td>USA</td>\n",
              "      <td>0</td>\n",
              "      <td>42</td>\n",
              "      <td>62812.09301</td>\n",
              "      <td>11609.380910</td>\n",
              "      <td>238961.2505</td>\n",
              "      <td>35321.45877</td>\n",
              "    </tr>\n",
              "    <tr>\n",
              "      <th>1</th>\n",
              "      <td>Harlan Barnes</td>\n",
              "      <td>eu.dolor@diam.co.uk</td>\n",
              "      <td>USA</td>\n",
              "      <td>0</td>\n",
              "      <td>41</td>\n",
              "      <td>66646.89292</td>\n",
              "      <td>9572.957136</td>\n",
              "      <td>530973.9078</td>\n",
              "      <td>45115.52566</td>\n",
              "    </tr>\n",
              "    <tr>\n",
              "      <th>2</th>\n",
              "      <td>Naomi Rodriquez</td>\n",
              "      <td>vulputate.mauris.sagittis@ametconsectetueradip...</td>\n",
              "      <td>USA</td>\n",
              "      <td>1</td>\n",
              "      <td>43</td>\n",
              "      <td>53798.55112</td>\n",
              "      <td>11160.355060</td>\n",
              "      <td>638467.1773</td>\n",
              "      <td>42925.70921</td>\n",
              "    </tr>\n",
              "    <tr>\n",
              "      <th>3</th>\n",
              "      <td>Jade Cunningham</td>\n",
              "      <td>malesuada@dignissim.com</td>\n",
              "      <td>USA</td>\n",
              "      <td>1</td>\n",
              "      <td>58</td>\n",
              "      <td>79370.03798</td>\n",
              "      <td>14426.164850</td>\n",
              "      <td>548599.0524</td>\n",
              "      <td>67422.36313</td>\n",
              "    </tr>\n",
              "    <tr>\n",
              "      <th>4</th>\n",
              "      <td>Cedric Leach</td>\n",
              "      <td>felis.ullamcorper.viverra@egetmollislectus.net</td>\n",
              "      <td>USA</td>\n",
              "      <td>1</td>\n",
              "      <td>57</td>\n",
              "      <td>59729.15130</td>\n",
              "      <td>5358.712177</td>\n",
              "      <td>560304.0671</td>\n",
              "      <td>55915.46248</td>\n",
              "    </tr>\n",
              "  </tbody>\n",
              "</table>\n",
              "</div>\n",
              "      <button class=\"colab-df-convert\" onclick=\"convertToInteractive('df-9be671dc-ac13-433f-9806-8f3ab411df40')\"\n",
              "              title=\"Convert this dataframe to an interactive table.\"\n",
              "              style=\"display:none;\">\n",
              "        \n",
              "  <svg xmlns=\"http://www.w3.org/2000/svg\" height=\"24px\"viewBox=\"0 0 24 24\"\n",
              "       width=\"24px\">\n",
              "    <path d=\"M0 0h24v24H0V0z\" fill=\"none\"/>\n",
              "    <path d=\"M18.56 5.44l.94 2.06.94-2.06 2.06-.94-2.06-.94-.94-2.06-.94 2.06-2.06.94zm-11 1L8.5 8.5l.94-2.06 2.06-.94-2.06-.94L8.5 2.5l-.94 2.06-2.06.94zm10 10l.94 2.06.94-2.06 2.06-.94-2.06-.94-.94-2.06-.94 2.06-2.06.94z\"/><path d=\"M17.41 7.96l-1.37-1.37c-.4-.4-.92-.59-1.43-.59-.52 0-1.04.2-1.43.59L10.3 9.45l-7.72 7.72c-.78.78-.78 2.05 0 2.83L4 21.41c.39.39.9.59 1.41.59.51 0 1.02-.2 1.41-.59l7.78-7.78 2.81-2.81c.8-.78.8-2.07 0-2.86zM5.41 20L4 18.59l7.72-7.72 1.47 1.35L5.41 20z\"/>\n",
              "  </svg>\n",
              "      </button>\n",
              "      \n",
              "  <style>\n",
              "    .colab-df-container {\n",
              "      display:flex;\n",
              "      flex-wrap:wrap;\n",
              "      gap: 12px;\n",
              "    }\n",
              "\n",
              "    .colab-df-convert {\n",
              "      background-color: #E8F0FE;\n",
              "      border: none;\n",
              "      border-radius: 50%;\n",
              "      cursor: pointer;\n",
              "      display: none;\n",
              "      fill: #1967D2;\n",
              "      height: 32px;\n",
              "      padding: 0 0 0 0;\n",
              "      width: 32px;\n",
              "    }\n",
              "\n",
              "    .colab-df-convert:hover {\n",
              "      background-color: #E2EBFA;\n",
              "      box-shadow: 0px 1px 2px rgba(60, 64, 67, 0.3), 0px 1px 3px 1px rgba(60, 64, 67, 0.15);\n",
              "      fill: #174EA6;\n",
              "    }\n",
              "\n",
              "    [theme=dark] .colab-df-convert {\n",
              "      background-color: #3B4455;\n",
              "      fill: #D2E3FC;\n",
              "    }\n",
              "\n",
              "    [theme=dark] .colab-df-convert:hover {\n",
              "      background-color: #434B5C;\n",
              "      box-shadow: 0px 1px 3px 1px rgba(0, 0, 0, 0.15);\n",
              "      filter: drop-shadow(0px 1px 2px rgba(0, 0, 0, 0.3));\n",
              "      fill: #FFFFFF;\n",
              "    }\n",
              "  </style>\n",
              "\n",
              "      <script>\n",
              "        const buttonEl =\n",
              "          document.querySelector('#df-9be671dc-ac13-433f-9806-8f3ab411df40 button.colab-df-convert');\n",
              "        buttonEl.style.display =\n",
              "          google.colab.kernel.accessAllowed ? 'block' : 'none';\n",
              "\n",
              "        async function convertToInteractive(key) {\n",
              "          const element = document.querySelector('#df-9be671dc-ac13-433f-9806-8f3ab411df40');\n",
              "          const dataTable =\n",
              "            await google.colab.kernel.invokeFunction('convertToInteractive',\n",
              "                                                     [key], {});\n",
              "          if (!dataTable) return;\n",
              "\n",
              "          const docLinkHtml = 'Like what you see? Visit the ' +\n",
              "            '<a target=\"_blank\" href=https://colab.research.google.com/notebooks/data_table.ipynb>data table notebook</a>'\n",
              "            + ' to learn more about interactive tables.';\n",
              "          element.innerHTML = '';\n",
              "          dataTable['output_type'] = 'display_data';\n",
              "          await google.colab.output.renderOutput(dataTable, element);\n",
              "          const docLink = document.createElement('div');\n",
              "          docLink.innerHTML = docLinkHtml;\n",
              "          element.appendChild(docLink);\n",
              "        }\n",
              "      </script>\n",
              "    </div>\n",
              "  </div>\n",
              "  "
            ]
          },
          "metadata": {},
          "execution_count": 232
        }
      ]
    },
    {
      "cell_type": "code",
      "source": [
        "# computing number of rows\n",
        "rows = len(df.axes[0])\n",
        " \n",
        "# computing number of columns\n",
        "cols = len(df.axes[1])\n",
        " \n",
        "print(df)\n",
        "print(\"Number of Rows: \", rows)\n",
        "print(\"Number of Columns: \", cols)"
      ],
      "metadata": {
        "colab": {
          "base_uri": "https://localhost:8080/"
        },
        "id": "XAQHDFDV5Njf",
        "outputId": "5c6c7dd8-6237-4971-b67d-0ea14f9f031d"
      },
      "execution_count": 233,
      "outputs": [
        {
          "output_type": "stream",
          "name": "stdout",
          "text": [
            "       Customer Name                                    Customer e-mail  \\\n",
            "0      Martina Avila  cubilia.Curae.Phasellus@quisaccumsanconvallis.edu   \n",
            "1      Harlan Barnes                                eu.dolor@diam.co.uk   \n",
            "2    Naomi Rodriquez  vulputate.mauris.sagittis@ametconsectetueradip...   \n",
            "3    Jade Cunningham                            malesuada@dignissim.com   \n",
            "4       Cedric Leach     felis.ullamcorper.viverra@egetmollislectus.net   \n",
            "..               ...                                                ...   \n",
            "495           Walter                                ligula@Cumsociis.ca   \n",
            "496            Vanna                 Cum.sociis.natoque@Sedmolestie.edu   \n",
            "497            Pearl                      penatibus.et@massanonante.com   \n",
            "498             Nell                  Quisque.varius@arcuVivamussit.net   \n",
            "499            Marla                          Camaron.marla@hotmail.com   \n",
            "\n",
            "    Country  Gender  Age  Annual Salary  Credit Card Debt    Net Worth  \\\n",
            "0       USA       0   42    62812.09301      11609.380910  238961.2505   \n",
            "1       USA       0   41    66646.89292       9572.957136  530973.9078   \n",
            "2       USA       1   43    53798.55112      11160.355060  638467.1773   \n",
            "3       USA       1   58    79370.03798      14426.164850  548599.0524   \n",
            "4       USA       1   57    59729.15130       5358.712177  560304.0671   \n",
            "..      ...     ...  ...            ...               ...          ...   \n",
            "495     USA       0   41    71942.40291       6995.902524  541670.1016   \n",
            "496     USA       1   38    56039.49793      12301.456790  360419.0988   \n",
            "497     USA       1   54    68888.77805      10611.606860  764531.3203   \n",
            "498     USA       1   59    49811.99062      14013.034510  337826.6382   \n",
            "499     USA       1   47    61370.67766       9391.341628  462946.4924   \n",
            "\n",
            "     Car Purchase Amount  \n",
            "0            35321.45877  \n",
            "1            45115.52566  \n",
            "2            42925.70921  \n",
            "3            67422.36313  \n",
            "4            55915.46248  \n",
            "..                   ...  \n",
            "495          48901.44342  \n",
            "496          31491.41457  \n",
            "497          64147.28888  \n",
            "498          45442.15353  \n",
            "499          45107.22566  \n",
            "\n",
            "[500 rows x 9 columns]\n",
            "Number of Rows:  500\n",
            "Number of Columns:  9\n"
          ]
        }
      ]
    },
    {
      "cell_type": "code",
      "source": [
        "# Drop unceccessary columns\n",
        "df = df.drop(columns=['Customer Name', 'Customer e-mail', 'Country'])\n",
        "df.head()"
      ],
      "metadata": {
        "id": "ynCnYx-y_jMd",
        "colab": {
          "base_uri": "https://localhost:8080/",
          "height": 204
        },
        "outputId": "f8c49287-0573-4074-e054-f9fe428a4c45"
      },
      "execution_count": 234,
      "outputs": [
        {
          "output_type": "execute_result",
          "data": {
            "text/plain": [
              "   Gender  Age  Annual Salary  Credit Card Debt    Net Worth  \\\n",
              "0       0   42    62812.09301      11609.380910  238961.2505   \n",
              "1       0   41    66646.89292       9572.957136  530973.9078   \n",
              "2       1   43    53798.55112      11160.355060  638467.1773   \n",
              "3       1   58    79370.03798      14426.164850  548599.0524   \n",
              "4       1   57    59729.15130       5358.712177  560304.0671   \n",
              "\n",
              "   Car Purchase Amount  \n",
              "0          35321.45877  \n",
              "1          45115.52566  \n",
              "2          42925.70921  \n",
              "3          67422.36313  \n",
              "4          55915.46248  "
            ],
            "text/html": [
              "\n",
              "  <div id=\"df-4849aade-5f0f-4785-ad15-0501fdc0744a\">\n",
              "    <div class=\"colab-df-container\">\n",
              "      <div>\n",
              "<style scoped>\n",
              "    .dataframe tbody tr th:only-of-type {\n",
              "        vertical-align: middle;\n",
              "    }\n",
              "\n",
              "    .dataframe tbody tr th {\n",
              "        vertical-align: top;\n",
              "    }\n",
              "\n",
              "    .dataframe thead th {\n",
              "        text-align: right;\n",
              "    }\n",
              "</style>\n",
              "<table border=\"1\" class=\"dataframe\">\n",
              "  <thead>\n",
              "    <tr style=\"text-align: right;\">\n",
              "      <th></th>\n",
              "      <th>Gender</th>\n",
              "      <th>Age</th>\n",
              "      <th>Annual Salary</th>\n",
              "      <th>Credit Card Debt</th>\n",
              "      <th>Net Worth</th>\n",
              "      <th>Car Purchase Amount</th>\n",
              "    </tr>\n",
              "  </thead>\n",
              "  <tbody>\n",
              "    <tr>\n",
              "      <th>0</th>\n",
              "      <td>0</td>\n",
              "      <td>42</td>\n",
              "      <td>62812.09301</td>\n",
              "      <td>11609.380910</td>\n",
              "      <td>238961.2505</td>\n",
              "      <td>35321.45877</td>\n",
              "    </tr>\n",
              "    <tr>\n",
              "      <th>1</th>\n",
              "      <td>0</td>\n",
              "      <td>41</td>\n",
              "      <td>66646.89292</td>\n",
              "      <td>9572.957136</td>\n",
              "      <td>530973.9078</td>\n",
              "      <td>45115.52566</td>\n",
              "    </tr>\n",
              "    <tr>\n",
              "      <th>2</th>\n",
              "      <td>1</td>\n",
              "      <td>43</td>\n",
              "      <td>53798.55112</td>\n",
              "      <td>11160.355060</td>\n",
              "      <td>638467.1773</td>\n",
              "      <td>42925.70921</td>\n",
              "    </tr>\n",
              "    <tr>\n",
              "      <th>3</th>\n",
              "      <td>1</td>\n",
              "      <td>58</td>\n",
              "      <td>79370.03798</td>\n",
              "      <td>14426.164850</td>\n",
              "      <td>548599.0524</td>\n",
              "      <td>67422.36313</td>\n",
              "    </tr>\n",
              "    <tr>\n",
              "      <th>4</th>\n",
              "      <td>1</td>\n",
              "      <td>57</td>\n",
              "      <td>59729.15130</td>\n",
              "      <td>5358.712177</td>\n",
              "      <td>560304.0671</td>\n",
              "      <td>55915.46248</td>\n",
              "    </tr>\n",
              "  </tbody>\n",
              "</table>\n",
              "</div>\n",
              "      <button class=\"colab-df-convert\" onclick=\"convertToInteractive('df-4849aade-5f0f-4785-ad15-0501fdc0744a')\"\n",
              "              title=\"Convert this dataframe to an interactive table.\"\n",
              "              style=\"display:none;\">\n",
              "        \n",
              "  <svg xmlns=\"http://www.w3.org/2000/svg\" height=\"24px\"viewBox=\"0 0 24 24\"\n",
              "       width=\"24px\">\n",
              "    <path d=\"M0 0h24v24H0V0z\" fill=\"none\"/>\n",
              "    <path d=\"M18.56 5.44l.94 2.06.94-2.06 2.06-.94-2.06-.94-.94-2.06-.94 2.06-2.06.94zm-11 1L8.5 8.5l.94-2.06 2.06-.94-2.06-.94L8.5 2.5l-.94 2.06-2.06.94zm10 10l.94 2.06.94-2.06 2.06-.94-2.06-.94-.94-2.06-.94 2.06-2.06.94z\"/><path d=\"M17.41 7.96l-1.37-1.37c-.4-.4-.92-.59-1.43-.59-.52 0-1.04.2-1.43.59L10.3 9.45l-7.72 7.72c-.78.78-.78 2.05 0 2.83L4 21.41c.39.39.9.59 1.41.59.51 0 1.02-.2 1.41-.59l7.78-7.78 2.81-2.81c.8-.78.8-2.07 0-2.86zM5.41 20L4 18.59l7.72-7.72 1.47 1.35L5.41 20z\"/>\n",
              "  </svg>\n",
              "      </button>\n",
              "      \n",
              "  <style>\n",
              "    .colab-df-container {\n",
              "      display:flex;\n",
              "      flex-wrap:wrap;\n",
              "      gap: 12px;\n",
              "    }\n",
              "\n",
              "    .colab-df-convert {\n",
              "      background-color: #E8F0FE;\n",
              "      border: none;\n",
              "      border-radius: 50%;\n",
              "      cursor: pointer;\n",
              "      display: none;\n",
              "      fill: #1967D2;\n",
              "      height: 32px;\n",
              "      padding: 0 0 0 0;\n",
              "      width: 32px;\n",
              "    }\n",
              "\n",
              "    .colab-df-convert:hover {\n",
              "      background-color: #E2EBFA;\n",
              "      box-shadow: 0px 1px 2px rgba(60, 64, 67, 0.3), 0px 1px 3px 1px rgba(60, 64, 67, 0.15);\n",
              "      fill: #174EA6;\n",
              "    }\n",
              "\n",
              "    [theme=dark] .colab-df-convert {\n",
              "      background-color: #3B4455;\n",
              "      fill: #D2E3FC;\n",
              "    }\n",
              "\n",
              "    [theme=dark] .colab-df-convert:hover {\n",
              "      background-color: #434B5C;\n",
              "      box-shadow: 0px 1px 3px 1px rgba(0, 0, 0, 0.15);\n",
              "      filter: drop-shadow(0px 1px 2px rgba(0, 0, 0, 0.3));\n",
              "      fill: #FFFFFF;\n",
              "    }\n",
              "  </style>\n",
              "\n",
              "      <script>\n",
              "        const buttonEl =\n",
              "          document.querySelector('#df-4849aade-5f0f-4785-ad15-0501fdc0744a button.colab-df-convert');\n",
              "        buttonEl.style.display =\n",
              "          google.colab.kernel.accessAllowed ? 'block' : 'none';\n",
              "\n",
              "        async function convertToInteractive(key) {\n",
              "          const element = document.querySelector('#df-4849aade-5f0f-4785-ad15-0501fdc0744a');\n",
              "          const dataTable =\n",
              "            await google.colab.kernel.invokeFunction('convertToInteractive',\n",
              "                                                     [key], {});\n",
              "          if (!dataTable) return;\n",
              "\n",
              "          const docLinkHtml = 'Like what you see? Visit the ' +\n",
              "            '<a target=\"_blank\" href=https://colab.research.google.com/notebooks/data_table.ipynb>data table notebook</a>'\n",
              "            + ' to learn more about interactive tables.';\n",
              "          element.innerHTML = '';\n",
              "          dataTable['output_type'] = 'display_data';\n",
              "          await google.colab.output.renderOutput(dataTable, element);\n",
              "          const docLink = document.createElement('div');\n",
              "          docLink.innerHTML = docLinkHtml;\n",
              "          element.appendChild(docLink);\n",
              "        }\n",
              "      </script>\n",
              "    </div>\n",
              "  </div>\n",
              "  "
            ]
          },
          "metadata": {},
          "execution_count": 234
        }
      ]
    },
    {
      "cell_type": "code",
      "source": [
        "# Checking for duplicates\n",
        "df.duplicated().sum()"
      ],
      "metadata": {
        "colab": {
          "base_uri": "https://localhost:8080/"
        },
        "id": "WJ4JlhtNeLgV",
        "outputId": "e3fbba14-ae7a-4735-8498-0a79da9addab"
      },
      "execution_count": 235,
      "outputs": [
        {
          "output_type": "execute_result",
          "data": {
            "text/plain": [
              "0"
            ]
          },
          "metadata": {},
          "execution_count": 235
        }
      ]
    },
    {
      "cell_type": "code",
      "source": [
        "# identify and address missing values \n",
        "df.isna().sum()"
      ],
      "metadata": {
        "colab": {
          "base_uri": "https://localhost:8080/"
        },
        "id": "mtO_XNaIfnpo",
        "outputId": "ca7496e1-80d3-4a48-bce1-5c202dbd85b9"
      },
      "execution_count": 236,
      "outputs": [
        {
          "output_type": "execute_result",
          "data": {
            "text/plain": [
              "Gender                 0\n",
              "Age                    0\n",
              "Annual Salary          0\n",
              "Credit Card Debt       0\n",
              "Net Worth              0\n",
              "Car Purchase Amount    0\n",
              "dtype: int64"
            ]
          },
          "metadata": {},
          "execution_count": 236
        }
      ]
    },
    {
      "cell_type": "markdown",
      "source": [
        "- No categorical values"
      ],
      "metadata": {
        "id": "V3bWzqlxhLor"
      }
    },
    {
      "cell_type": "code",
      "source": [
        "df['Gender'].fillna(df['Gender'].median(),inplace=True)"
      ],
      "metadata": {
        "id": "Et5UJ7n_Rn85"
      },
      "execution_count": 237,
      "outputs": []
    },
    {
      "cell_type": "code",
      "source": [
        "df['Gender'].value_counts()"
      ],
      "metadata": {
        "colab": {
          "base_uri": "https://localhost:8080/"
        },
        "id": "zb9HHbZGRr-Z",
        "outputId": "ff30e5cb-1d56-47e3-dd78-ebcbc08d6f03"
      },
      "execution_count": 238,
      "outputs": [
        {
          "output_type": "execute_result",
          "data": {
            "text/plain": [
              "1    253\n",
              "0    247\n",
              "Name: Gender, dtype: int64"
            ]
          },
          "metadata": {},
          "execution_count": 238
        }
      ]
    },
    {
      "cell_type": "code",
      "source": [
        "df.describe()"
      ],
      "metadata": {
        "colab": {
          "base_uri": "https://localhost:8080/",
          "height": 297
        },
        "id": "a3kCzIWJgRFJ",
        "outputId": "fc93a1a0-131b-4478-f1e0-125809eb80bf"
      },
      "execution_count": 239,
      "outputs": [
        {
          "output_type": "execute_result",
          "data": {
            "text/plain": [
              "           Gender         Age  Annual Salary  Credit Card Debt  \\\n",
              "count  500.000000  500.000000     500.000000        500.000000   \n",
              "mean     0.506000   46.224000   62127.239608       9607.645049   \n",
              "std      0.500465    7.990339   11703.378228       3489.187973   \n",
              "min      0.000000   20.000000   20000.000000        100.000000   \n",
              "25%      0.000000   41.000000   54391.977195       7397.515792   \n",
              "50%      1.000000   46.000000   62915.497035       9655.035568   \n",
              "75%      1.000000   52.000000   70117.862005      11798.867487   \n",
              "max      1.000000   70.000000  100000.000000      20000.000000   \n",
              "\n",
              "            Net Worth  Car Purchase Amount  \n",
              "count      500.000000           500.000000  \n",
              "mean    431475.713625         44209.799218  \n",
              "std     173536.756340         10773.178744  \n",
              "min      20000.000000          9000.000000  \n",
              "25%     299824.195900         37629.896040  \n",
              "50%     426750.120650         43997.783390  \n",
              "75%     557324.478725         51254.709517  \n",
              "max    1000000.000000         80000.000000  "
            ],
            "text/html": [
              "\n",
              "  <div id=\"df-a811a1f5-5d09-4109-8db7-c09be787468c\">\n",
              "    <div class=\"colab-df-container\">\n",
              "      <div>\n",
              "<style scoped>\n",
              "    .dataframe tbody tr th:only-of-type {\n",
              "        vertical-align: middle;\n",
              "    }\n",
              "\n",
              "    .dataframe tbody tr th {\n",
              "        vertical-align: top;\n",
              "    }\n",
              "\n",
              "    .dataframe thead th {\n",
              "        text-align: right;\n",
              "    }\n",
              "</style>\n",
              "<table border=\"1\" class=\"dataframe\">\n",
              "  <thead>\n",
              "    <tr style=\"text-align: right;\">\n",
              "      <th></th>\n",
              "      <th>Gender</th>\n",
              "      <th>Age</th>\n",
              "      <th>Annual Salary</th>\n",
              "      <th>Credit Card Debt</th>\n",
              "      <th>Net Worth</th>\n",
              "      <th>Car Purchase Amount</th>\n",
              "    </tr>\n",
              "  </thead>\n",
              "  <tbody>\n",
              "    <tr>\n",
              "      <th>count</th>\n",
              "      <td>500.000000</td>\n",
              "      <td>500.000000</td>\n",
              "      <td>500.000000</td>\n",
              "      <td>500.000000</td>\n",
              "      <td>500.000000</td>\n",
              "      <td>500.000000</td>\n",
              "    </tr>\n",
              "    <tr>\n",
              "      <th>mean</th>\n",
              "      <td>0.506000</td>\n",
              "      <td>46.224000</td>\n",
              "      <td>62127.239608</td>\n",
              "      <td>9607.645049</td>\n",
              "      <td>431475.713625</td>\n",
              "      <td>44209.799218</td>\n",
              "    </tr>\n",
              "    <tr>\n",
              "      <th>std</th>\n",
              "      <td>0.500465</td>\n",
              "      <td>7.990339</td>\n",
              "      <td>11703.378228</td>\n",
              "      <td>3489.187973</td>\n",
              "      <td>173536.756340</td>\n",
              "      <td>10773.178744</td>\n",
              "    </tr>\n",
              "    <tr>\n",
              "      <th>min</th>\n",
              "      <td>0.000000</td>\n",
              "      <td>20.000000</td>\n",
              "      <td>20000.000000</td>\n",
              "      <td>100.000000</td>\n",
              "      <td>20000.000000</td>\n",
              "      <td>9000.000000</td>\n",
              "    </tr>\n",
              "    <tr>\n",
              "      <th>25%</th>\n",
              "      <td>0.000000</td>\n",
              "      <td>41.000000</td>\n",
              "      <td>54391.977195</td>\n",
              "      <td>7397.515792</td>\n",
              "      <td>299824.195900</td>\n",
              "      <td>37629.896040</td>\n",
              "    </tr>\n",
              "    <tr>\n",
              "      <th>50%</th>\n",
              "      <td>1.000000</td>\n",
              "      <td>46.000000</td>\n",
              "      <td>62915.497035</td>\n",
              "      <td>9655.035568</td>\n",
              "      <td>426750.120650</td>\n",
              "      <td>43997.783390</td>\n",
              "    </tr>\n",
              "    <tr>\n",
              "      <th>75%</th>\n",
              "      <td>1.000000</td>\n",
              "      <td>52.000000</td>\n",
              "      <td>70117.862005</td>\n",
              "      <td>11798.867487</td>\n",
              "      <td>557324.478725</td>\n",
              "      <td>51254.709517</td>\n",
              "    </tr>\n",
              "    <tr>\n",
              "      <th>max</th>\n",
              "      <td>1.000000</td>\n",
              "      <td>70.000000</td>\n",
              "      <td>100000.000000</td>\n",
              "      <td>20000.000000</td>\n",
              "      <td>1000000.000000</td>\n",
              "      <td>80000.000000</td>\n",
              "    </tr>\n",
              "  </tbody>\n",
              "</table>\n",
              "</div>\n",
              "      <button class=\"colab-df-convert\" onclick=\"convertToInteractive('df-a811a1f5-5d09-4109-8db7-c09be787468c')\"\n",
              "              title=\"Convert this dataframe to an interactive table.\"\n",
              "              style=\"display:none;\">\n",
              "        \n",
              "  <svg xmlns=\"http://www.w3.org/2000/svg\" height=\"24px\"viewBox=\"0 0 24 24\"\n",
              "       width=\"24px\">\n",
              "    <path d=\"M0 0h24v24H0V0z\" fill=\"none\"/>\n",
              "    <path d=\"M18.56 5.44l.94 2.06.94-2.06 2.06-.94-2.06-.94-.94-2.06-.94 2.06-2.06.94zm-11 1L8.5 8.5l.94-2.06 2.06-.94-2.06-.94L8.5 2.5l-.94 2.06-2.06.94zm10 10l.94 2.06.94-2.06 2.06-.94-2.06-.94-.94-2.06-.94 2.06-2.06.94z\"/><path d=\"M17.41 7.96l-1.37-1.37c-.4-.4-.92-.59-1.43-.59-.52 0-1.04.2-1.43.59L10.3 9.45l-7.72 7.72c-.78.78-.78 2.05 0 2.83L4 21.41c.39.39.9.59 1.41.59.51 0 1.02-.2 1.41-.59l7.78-7.78 2.81-2.81c.8-.78.8-2.07 0-2.86zM5.41 20L4 18.59l7.72-7.72 1.47 1.35L5.41 20z\"/>\n",
              "  </svg>\n",
              "      </button>\n",
              "      \n",
              "  <style>\n",
              "    .colab-df-container {\n",
              "      display:flex;\n",
              "      flex-wrap:wrap;\n",
              "      gap: 12px;\n",
              "    }\n",
              "\n",
              "    .colab-df-convert {\n",
              "      background-color: #E8F0FE;\n",
              "      border: none;\n",
              "      border-radius: 50%;\n",
              "      cursor: pointer;\n",
              "      display: none;\n",
              "      fill: #1967D2;\n",
              "      height: 32px;\n",
              "      padding: 0 0 0 0;\n",
              "      width: 32px;\n",
              "    }\n",
              "\n",
              "    .colab-df-convert:hover {\n",
              "      background-color: #E2EBFA;\n",
              "      box-shadow: 0px 1px 2px rgba(60, 64, 67, 0.3), 0px 1px 3px 1px rgba(60, 64, 67, 0.15);\n",
              "      fill: #174EA6;\n",
              "    }\n",
              "\n",
              "    [theme=dark] .colab-df-convert {\n",
              "      background-color: #3B4455;\n",
              "      fill: #D2E3FC;\n",
              "    }\n",
              "\n",
              "    [theme=dark] .colab-df-convert:hover {\n",
              "      background-color: #434B5C;\n",
              "      box-shadow: 0px 1px 3px 1px rgba(0, 0, 0, 0.15);\n",
              "      filter: drop-shadow(0px 1px 2px rgba(0, 0, 0, 0.3));\n",
              "      fill: #FFFFFF;\n",
              "    }\n",
              "  </style>\n",
              "\n",
              "      <script>\n",
              "        const buttonEl =\n",
              "          document.querySelector('#df-a811a1f5-5d09-4109-8db7-c09be787468c button.colab-df-convert');\n",
              "        buttonEl.style.display =\n",
              "          google.colab.kernel.accessAllowed ? 'block' : 'none';\n",
              "\n",
              "        async function convertToInteractive(key) {\n",
              "          const element = document.querySelector('#df-a811a1f5-5d09-4109-8db7-c09be787468c');\n",
              "          const dataTable =\n",
              "            await google.colab.kernel.invokeFunction('convertToInteractive',\n",
              "                                                     [key], {});\n",
              "          if (!dataTable) return;\n",
              "\n",
              "          const docLinkHtml = 'Like what you see? Visit the ' +\n",
              "            '<a target=\"_blank\" href=https://colab.research.google.com/notebooks/data_table.ipynb>data table notebook</a>'\n",
              "            + ' to learn more about interactive tables.';\n",
              "          element.innerHTML = '';\n",
              "          dataTable['output_type'] = 'display_data';\n",
              "          await google.colab.output.renderOutput(dataTable, element);\n",
              "          const docLink = document.createElement('div');\n",
              "          docLink.innerHTML = docLinkHtml;\n",
              "          element.appendChild(docLink);\n",
              "        }\n",
              "      </script>\n",
              "    </div>\n",
              "  </div>\n",
              "  "
            ]
          },
          "metadata": {},
          "execution_count": 239
        }
      ]
    },
    {
      "cell_type": "code",
      "source": [
        "x_train, x_test, y_train, y_test = train_test_split(df.drop(['Car Purchase Amount'],axis=1),\n",
        "                                                   df['Car Purchase Amount'],\n",
        "                                                   test_size=0.2,\n",
        "                                                   random_state=0)\n",
        "\n",
        "x_train.shape, x_test.shape"
      ],
      "metadata": {
        "colab": {
          "base_uri": "https://localhost:8080/"
        },
        "id": "B7e8IRsEj1AB",
        "outputId": "86dcc8f2-b1cd-483d-ccd3-99660385b50a"
      },
      "execution_count": 240,
      "outputs": [
        {
          "output_type": "execute_result",
          "data": {
            "text/plain": [
              "((400, 5), (100, 5))"
            ]
          },
          "metadata": {},
          "execution_count": 240
        }
      ]
    },
    {
      "cell_type": "code",
      "source": [
        "discrete_variable = [var for var in x_train.columns if x_train[var].dtype != 'O' and x_train[var].nunique() < 10]\n",
        "continuous_variable = [var for var in x_train.columns if x_train[var].dtype != 'O' and var not in discrete_variable]"
      ],
      "metadata": {
        "id": "QqXKen8-kU2U"
      },
      "execution_count": 241,
      "outputs": []
    },
    {
      "cell_type": "code",
      "source": [
        "discrete_variable"
      ],
      "metadata": {
        "colab": {
          "base_uri": "https://localhost:8080/"
        },
        "id": "g_gF1C35kpZ7",
        "outputId": "d341d3b2-de9c-401f-a3f1-558e2db2ae43"
      },
      "execution_count": 242,
      "outputs": [
        {
          "output_type": "execute_result",
          "data": {
            "text/plain": [
              "['Gender']"
            ]
          },
          "metadata": {},
          "execution_count": 242
        }
      ]
    },
    {
      "cell_type": "code",
      "source": [
        "continuous_variable"
      ],
      "metadata": {
        "colab": {
          "base_uri": "https://localhost:8080/"
        },
        "id": "15X8FZGdkr_K",
        "outputId": "503fcb46-b6f6-4f03-d495-cabfaf8b975a"
      },
      "execution_count": 243,
      "outputs": [
        {
          "output_type": "execute_result",
          "data": {
            "text/plain": [
              "['Age', 'Annual Salary', 'Credit Card Debt', 'Net Worth']"
            ]
          },
          "metadata": {},
          "execution_count": 243
        }
      ]
    },
    {
      "cell_type": "code",
      "source": [
        "def diagnostic_plot(df, var):\n",
        "    fig = plt.figure(figsize=(12,4))\n",
        "    \n",
        "    plt.subplot(1,3,1)\n",
        "    df[var].plot(kind='hist',bins=50)\n",
        "    plt.title('Histogram')\n",
        "    \n",
        "    plt.subplot(1,3,2)\n",
        "    stats.probplot(df[var], dist='norm', plot=plt)\n",
        "    plt.ylabel('RM Quantiles')\n",
        "    \n",
        "    plt.subplot(1,3,3)\n",
        "    sns.boxplot(y=df[var])\n",
        "    plt.title('Boxplot')\n",
        "    \n",
        "    plt.show()"
      ],
      "metadata": {
        "id": "zywmWyHikAv1"
      },
      "execution_count": 244,
      "outputs": []
    },
    {
      "cell_type": "code",
      "source": [
        "for var in continuous_variable:\n",
        "    diagnostic_plot(x_train, var)"
      ],
      "metadata": {
        "colab": {
          "base_uri": "https://localhost:8080/",
          "height": 1000
        },
        "id": "pXskutNHiWEf",
        "outputId": "d4f5eb78-37aa-4f08-f6fb-b7c5de291152"
      },
      "execution_count": 245,
      "outputs": [
        {
          "output_type": "display_data",
          "data": {
            "text/plain": [
              "<Figure size 864x288 with 3 Axes>"
            ],
            "image/png": "[encoded data removed]"
          },
          "metadata": {
            "needs_background": "light"
          }
        },
        {
          "output_type": "display_data",
          "data": {
            "text/plain": [
              "<Figure size 864x288 with 3 Axes>"
            ],
            "image/png": "[encoded data removed]"
          },
          "metadata": {
            "needs_background": "light"
          }
        },
        {
          "output_type": "display_data",
          "data": {
            "text/plain": [
              "<Figure size 864x288 with 3 Axes>"
            ],
            "image/png": "[encoded data removed]"
          },
          "metadata": {
            "needs_background": "light"
          }
        },
        {
          "output_type": "display_data",
          "data": {
            "text/plain": [
              "<Figure size 864x288 with 3 Axes>"
            ],
            "image/png": "[encoded data removed]"
          },
          "metadata": {
            "needs_background": "light"
          }
        }
      ]
    },
    {
      "cell_type": "markdown",
      "source": [
        "- We can see that our continuous variables are normally distributed because the values align to the 45 degree line of the Q-Q plot and except Net worth all the variables have outliers on both tails. Networth have outliers on right tail only."
      ],
      "metadata": {
        "id": "XH0ZHjGtk9KS"
      }
    },
    {
      "cell_type": "code",
      "source": [
        "# we can directly use boxplot to visualize outliers.\n",
        "# boxplots are standard way of displaying the distribution of a variable, utilising\n",
        "# the first quantile, the median, the third quantile, and the whiskers\n",
        "\n",
        "i = 1\n",
        "fig = plt.figure(figsize=(25,7))\n",
        "\n",
        "for var in continuous_variable:\n",
        "    plt.subplot(1,4,i)\n",
        "    sns.boxplot(y=x_train[var])\n",
        "    plt.title(var)\n",
        "    i = i + 1"
      ],
      "metadata": {
        "colab": {
          "base_uri": "https://localhost:8080/",
          "height": 395
        },
        "id": "ttm5fvr9kFn6",
        "outputId": "8c92deeb-66d4-4a1a-b9cd-3a0c7b4942bc"
      },
      "execution_count": 246,
      "outputs": [
        {
          "output_type": "display_data",
          "data": {
            "text/plain": [
              "<Figure size 1800x504 with 4 Axes>"
            ],
            "image/png": "[encoded data removed]"
          },
          "metadata": {
            "needs_background": "light"
          }
        }
      ]
    },
    {
      "cell_type": "markdown",
      "source": [
        "## Project Part 3"
      ],
      "metadata": {
        "id": "fvf6Okln3iAQ"
      }
    },
    {
      "cell_type": "code",
      "source": [
        "df.head()"
      ],
      "metadata": {
        "colab": {
          "base_uri": "https://localhost:8080/",
          "height": 204
        },
        "id": "ILSKCDhuGfLc",
        "outputId": "a115c746-8418-4e59-a845-7c7370a9867d"
      },
      "execution_count": 247,
      "outputs": [
        {
          "output_type": "execute_result",
          "data": {
            "text/plain": [
              "   Gender  Age  Annual Salary  Credit Card Debt    Net Worth  \\\n",
              "0       0   42    62812.09301      11609.380910  238961.2505   \n",
              "1       0   41    66646.89292       9572.957136  530973.9078   \n",
              "2       1   43    53798.55112      11160.355060  638467.1773   \n",
              "3       1   58    79370.03798      14426.164850  548599.0524   \n",
              "4       1   57    59729.15130       5358.712177  560304.0671   \n",
              "\n",
              "   Car Purchase Amount  \n",
              "0          35321.45877  \n",
              "1          45115.52566  \n",
              "2          42925.70921  \n",
              "3          67422.36313  \n",
              "4          55915.46248  "
            ],
            "text/html": [
              "\n",
              "  <div id=\"df-7cc54f59-f15f-4c40-99b2-39531a8cf180\">\n",
              "    <div class=\"colab-df-container\">\n",
              "      <div>\n",
              "<style scoped>\n",
              "    .dataframe tbody tr th:only-of-type {\n",
              "        vertical-align: middle;\n",
              "    }\n",
              "\n",
              "    .dataframe tbody tr th {\n",
              "        vertical-align: top;\n",
              "    }\n",
              "\n",
              "    .dataframe thead th {\n",
              "        text-align: right;\n",
              "    }\n",
              "</style>\n",
              "<table border=\"1\" class=\"dataframe\">\n",
              "  <thead>\n",
              "    <tr style=\"text-align: right;\">\n",
              "      <th></th>\n",
              "      <th>Gender</th>\n",
              "      <th>Age</th>\n",
              "      <th>Annual Salary</th>\n",
              "      <th>Credit Card Debt</th>\n",
              "      <th>Net Worth</th>\n",
              "      <th>Car Purchase Amount</th>\n",
              "    </tr>\n",
              "  </thead>\n",
              "  <tbody>\n",
              "    <tr>\n",
              "      <th>0</th>\n",
              "      <td>0</td>\n",
              "      <td>42</td>\n",
              "      <td>62812.09301</td>\n",
              "      <td>11609.380910</td>\n",
              "      <td>238961.2505</td>\n",
              "      <td>35321.45877</td>\n",
              "    </tr>\n",
              "    <tr>\n",
              "      <th>1</th>\n",
              "      <td>0</td>\n",
              "      <td>41</td>\n",
              "      <td>66646.89292</td>\n",
              "      <td>9572.957136</td>\n",
              "      <td>530973.9078</td>\n",
              "      <td>45115.52566</td>\n",
              "    </tr>\n",
              "    <tr>\n",
              "      <th>2</th>\n",
              "      <td>1</td>\n",
              "      <td>43</td>\n",
              "      <td>53798.55112</td>\n",
              "      <td>11160.355060</td>\n",
              "      <td>638467.1773</td>\n",
              "      <td>42925.70921</td>\n",
              "    </tr>\n",
              "    <tr>\n",
              "      <th>3</th>\n",
              "      <td>1</td>\n",
              "      <td>58</td>\n",
              "      <td>79370.03798</td>\n",
              "      <td>14426.164850</td>\n",
              "      <td>548599.0524</td>\n",
              "      <td>67422.36313</td>\n",
              "    </tr>\n",
              "    <tr>\n",
              "      <th>4</th>\n",
              "      <td>1</td>\n",
              "      <td>57</td>\n",
              "      <td>59729.15130</td>\n",
              "      <td>5358.712177</td>\n",
              "      <td>560304.0671</td>\n",
              "      <td>55915.46248</td>\n",
              "    </tr>\n",
              "  </tbody>\n",
              "</table>\n",
              "</div>\n",
              "      <button class=\"colab-df-convert\" onclick=\"convertToInteractive('df-7cc54f59-f15f-4c40-99b2-39531a8cf180')\"\n",
              "              title=\"Convert this dataframe to an interactive table.\"\n",
              "              style=\"display:none;\">\n",
              "        \n",
              "  <svg xmlns=\"http://www.w3.org/2000/svg\" height=\"24px\"viewBox=\"0 0 24 24\"\n",
              "       width=\"24px\">\n",
              "    <path d=\"M0 0h24v24H0V0z\" fill=\"none\"/>\n",
              "    <path d=\"M18.56 5.44l.94 2.06.94-2.06 2.06-.94-2.06-.94-.94-2.06-.94 2.06-2.06.94zm-11 1L8.5 8.5l.94-2.06 2.06-.94-2.06-.94L8.5 2.5l-.94 2.06-2.06.94zm10 10l.94 2.06.94-2.06 2.06-.94-2.06-.94-.94-2.06-.94 2.06-2.06.94z\"/><path d=\"M17.41 7.96l-1.37-1.37c-.4-.4-.92-.59-1.43-.59-.52 0-1.04.2-1.43.59L10.3 9.45l-7.72 7.72c-.78.78-.78 2.05 0 2.83L4 21.41c.39.39.9.59 1.41.59.51 0 1.02-.2 1.41-.59l7.78-7.78 2.81-2.81c.8-.78.8-2.07 0-2.86zM5.41 20L4 18.59l7.72-7.72 1.47 1.35L5.41 20z\"/>\n",
              "  </svg>\n",
              "      </button>\n",
              "      \n",
              "  <style>\n",
              "    .colab-df-container {\n",
              "      display:flex;\n",
              "      flex-wrap:wrap;\n",
              "      gap: 12px;\n",
              "    }\n",
              "\n",
              "    .colab-df-convert {\n",
              "      background-color: #E8F0FE;\n",
              "      border: none;\n",
              "      border-radius: 50%;\n",
              "      cursor: pointer;\n",
              "      display: none;\n",
              "      fill: #1967D2;\n",
              "      height: 32px;\n",
              "      padding: 0 0 0 0;\n",
              "      width: 32px;\n",
              "    }\n",
              "\n",
              "    .colab-df-convert:hover {\n",
              "      background-color: #E2EBFA;\n",
              "      box-shadow: 0px 1px 2px rgba(60, 64, 67, 0.3), 0px 1px 3px 1px rgba(60, 64, 67, 0.15);\n",
              "      fill: #174EA6;\n",
              "    }\n",
              "\n",
              "    [theme=dark] .colab-df-convert {\n",
              "      background-color: #3B4455;\n",
              "      fill: #D2E3FC;\n",
              "    }\n",
              "\n",
              "    [theme=dark] .colab-df-convert:hover {\n",
              "      background-color: #434B5C;\n",
              "      box-shadow: 0px 1px 3px 1px rgba(0, 0, 0, 0.15);\n",
              "      filter: drop-shadow(0px 1px 2px rgba(0, 0, 0, 0.3));\n",
              "      fill: #FFFFFF;\n",
              "    }\n",
              "  </style>\n",
              "\n",
              "      <script>\n",
              "        const buttonEl =\n",
              "          document.querySelector('#df-7cc54f59-f15f-4c40-99b2-39531a8cf180 button.colab-df-convert');\n",
              "        buttonEl.style.display =\n",
              "          google.colab.kernel.accessAllowed ? 'block' : 'none';\n",
              "\n",
              "        async function convertToInteractive(key) {\n",
              "          const element = document.querySelector('#df-7cc54f59-f15f-4c40-99b2-39531a8cf180');\n",
              "          const dataTable =\n",
              "            await google.colab.kernel.invokeFunction('convertToInteractive',\n",
              "                                                     [key], {});\n",
              "          if (!dataTable) return;\n",
              "\n",
              "          const docLinkHtml = 'Like what you see? Visit the ' +\n",
              "            '<a target=\"_blank\" href=https://colab.research.google.com/notebooks/data_table.ipynb>data table notebook</a>'\n",
              "            + ' to learn more about interactive tables.';\n",
              "          element.innerHTML = '';\n",
              "          dataTable['output_type'] = 'display_data';\n",
              "          await google.colab.output.renderOutput(dataTable, element);\n",
              "          const docLink = document.createElement('div');\n",
              "          docLink.innerHTML = docLinkHtml;\n",
              "          element.appendChild(docLink);\n",
              "        }\n",
              "      </script>\n",
              "    </div>\n",
              "  </div>\n",
              "  "
            ]
          },
          "metadata": {},
          "execution_count": 247
        }
      ]
    },
    {
      "cell_type": "code",
      "source": [
        "# we calculate the correlations using corr()\n",
        "# and we round the values to 2 decimals\n",
        "correlation_matrix = np.round(x_train.corr(),2)\n",
        "\n",
        "# plot the correlation matric using seaborn\n",
        "# we use annot = true to print the correlation values\n",
        "\n",
        "fig = plt.figure(figsize=(10,10))\n",
        "sns.heatmap(data=correlation_matrix, annot=True)"
      ],
      "metadata": {
        "id": "btkMA_ItZhcW",
        "colab": {
          "base_uri": "https://localhost:8080/",
          "height": 613
        },
        "outputId": "1f79ae40-6d5a-4bb3-f463-0f76dd6ec8c3"
      },
      "execution_count": 248,
      "outputs": [
        {
          "output_type": "execute_result",
          "data": {
            "text/plain": [
              "<matplotlib.axes._subplots.AxesSubplot at 0x7f5262d35c50>"
            ]
          },
          "metadata": {},
          "execution_count": 248
        },
        {
          "output_type": "display_data",
          "data": {
            "text/plain": [
              "<Figure size 720x720 with 2 Axes>"
            ],
            "image/png": "[encoded data removed]"
          },
          "metadata": {
            "needs_background": "light"
          }
        }
      ]
    },
    {
      "cell_type": "markdown",
      "source": [
        "- We can see that there is no perfect linear relation between two or more variables. "
      ],
      "metadata": {
        "id": "g2EfagfwK6s2"
      }
    },
    {
      "cell_type": "code",
      "source": [
        "x_train['Gender'].value_counts().plot.pie(fontsize=13, autopct = '%.2f',\n",
        "                                        textprops={'color':'b'})\n",
        "plt.show()"
      ],
      "metadata": {
        "colab": {
          "base_uri": "https://localhost:8080/",
          "height": 248
        },
        "id": "nGg7xCjAGk8x",
        "outputId": "e50e58b5-4ef7-4ac7-b4e4-4d7d459d9036"
      },
      "execution_count": 249,
      "outputs": [
        {
          "output_type": "display_data",
          "data": {
            "text/plain": [
              "<Figure size 432x288 with 1 Axes>"
            ],
            "image/png": "[encoded data removed]"
          },
          "metadata": {}
        }
      ]
    },
    {
      "cell_type": "markdown",
      "source": [
        "- We have almost equal ratio of male and female as a customer."
      ],
      "metadata": {
        "id": "Vj2pQs3xLTG8"
      }
    },
    {
      "cell_type": "code",
      "source": [
        "x_train.plot.scatter(x = 'Age', y = 'Credit Card Debt', c = 'Gender',\n",
        "                    cmap = plt.get_cmap('autumn'), sharex=False)\n",
        "plt.show()"
      ],
      "metadata": {
        "colab": {
          "base_uri": "https://localhost:8080/",
          "height": 283
        },
        "id": "3LAAdeJ2Gt0M",
        "outputId": "1127dc67-5398-4c4d-d452-2eafa2d03ba6"
      },
      "execution_count": 250,
      "outputs": [
        {
          "output_type": "display_data",
          "data": {
            "text/plain": [
              "<Figure size 432x288 with 2 Axes>"
            ],
            "image/png": "[encoded data removed]"
          },
          "metadata": {
            "needs_background": "light"
          }
        }
      ]
    },
    {
      "cell_type": "markdown",
      "source": [
        "- We see on the scatterplot there is higher correlaiton of credit card debt amongst the yellow dots vs the red dots. Ages 40-60 seems to have a signinficant amount of debt compared to the other age groups. "
      ],
      "metadata": {
        "id": "fI0K4jiWObtt"
      }
    },
    {
      "cell_type": "markdown",
      "source": [
        "## Part 4 "
      ],
      "metadata": {
        "id": "K0_vdJVuPRZm"
      }
    },
    {
      "cell_type": "code",
      "source": [
        "# Scaler\n",
        "scaler = StandardScaler()\n",
        "\n",
        "scaler.fit(x_train)\n",
        "\n",
        "x_train = scaler.transform(x_train)\n",
        "x_test = scaler.transform(x_test)"
      ],
      "metadata": {
        "id": "bY0Bo0qnPJnP"
      },
      "execution_count": 251,
      "outputs": []
    },
    {
      "cell_type": "code",
      "source": [
        "# R2 score model\n",
        "linear_reg = LinearRegression()\n",
        "linear_reg.fit(x_train,y_train)\n",
        "\n",
        "y_linear_pred = linear_reg.predict(x_test)"
      ],
      "metadata": {
        "id": "3FqDoMYLP4A6"
      },
      "execution_count": 252,
      "outputs": []
    },
    {
      "cell_type": "code",
      "source": [
        "print('Mean absolute error: ',mean_absolute_error(y_test,y_linear_pred))\n",
        "print()\n",
        "print('Root mean squared error: ', np.sqrt(mean_absolute_error(y_test,y_linear_pred)))\n",
        "print()\n",
        "print('R2 score: ',r2_score(y_test,y_linear_pred))"
      ],
      "metadata": {
        "colab": {
          "base_uri": "https://localhost:8080/"
        },
        "id": "828zKNibQDtJ",
        "outputId": "5a797550-3fc4-4211-b1cf-e21e0ce04ae2"
      },
      "execution_count": 253,
      "outputs": [
        {
          "output_type": "stream",
          "name": "stdout",
          "text": [
            "Mean absolute error:  216.36020860061058\n",
            "\n",
            "Root mean squared error:  14.70918789738613\n",
            "\n",
            "R2 score:  0.9994880699639503\n"
          ]
        }
      ]
    },
    {
      "cell_type": "markdown",
      "source": [
        "- R2 score is 99%. \n",
        "\n",
        "- We can use k-fold cross validation to check the performance from accross the iterations to determine the average range and the standard deviation."
      ],
      "metadata": {
        "id": "ELF5ENNFQPAF"
      }
    },
    {
      "cell_type": "code",
      "source": [
        "accuries = cross_val_score(linear_reg, x_train,y_train, cv=10)\n",
        "print('Accuracy: {:.2f} %'.format(accuries.mean()*100))\n",
        "print('Standard Deviation: {:.2f} %'.format(accuries.std()*100))"
      ],
      "metadata": {
        "colab": {
          "base_uri": "https://localhost:8080/"
        },
        "id": "5ygodcxHQGQd",
        "outputId": "24654d46-fc25-43d6-92a9-c93fa3732dd4"
      },
      "execution_count": 254,
      "outputs": [
        {
          "output_type": "stream",
          "name": "stdout",
          "text": [
            "Accuracy: 99.94 %\n",
            "Standard Deviation: 0.01 %\n"
          ]
        }
      ]
    },
    {
      "cell_type": "markdown",
      "source": [
        "- Here the Standard deviation is very low which assures that the linear regression model is the best fit for our data"
      ],
      "metadata": {
        "id": "8ig1BbnEQoO6"
      }
    },
    {
      "cell_type": "code",
      "source": [
        "# Random forest model\n",
        "forest = RandomForestRegressor()\n",
        "forest.fit(x_train,y_train)\n",
        "print(forest.score(x_test,y_test))"
      ],
      "metadata": {
        "colab": {
          "base_uri": "https://localhost:8080/"
        },
        "id": "ZVob1Z-iQfF7",
        "outputId": "30fdd0e3-0f30-446c-9200-c3cf3bda6f70"
      },
      "execution_count": 255,
      "outputs": [
        {
          "output_type": "stream",
          "name": "stdout",
          "text": [
            "0.9606103176086727\n"
          ]
        }
      ]
    },
    {
      "cell_type": "code",
      "source": [
        "# Decision Tree Model\n",
        "tree = DecisionTreeRegressor(criterion='mae',max_depth=20)\n",
        "tree.fit(x_train,y_train)\n",
        "print(tree.score(x_test,y_test))"
      ],
      "metadata": {
        "colab": {
          "base_uri": "https://localhost:8080/"
        },
        "id": "hmLgPLB-RFrf",
        "outputId": "be04d0c1-4f03-4b3a-9031-3b77de3a6ec6"
      },
      "execution_count": 256,
      "outputs": [
        {
          "output_type": "stream",
          "name": "stdout",
          "text": [
            "0.8573427437771073\n"
          ]
        },
        {
          "output_type": "stream",
          "name": "stderr",
          "text": [
            "/usr/local/lib/python3.7/dist-packages/sklearn/tree/_classes.py:370: FutureWarning: Criterion 'mae' was deprecated in v1.0 and will be removed in version 1.2. Use `criterion='absolute_error'` which is equivalent.\n",
            "  FutureWarning,\n"
          ]
        }
      ]
    },
    {
      "cell_type": "code",
      "source": [
        "from sklearn.decomposition import PCA\n",
        "from sklearn.pipeline import make_pipeline\n",
        "\n",
        "# We are asking for the number of Principal Components that will retain 95% of the variance in the original features\n",
        "pca = PCA(n_components = .95)\n",
        "\n",
        "# Preprocessing Pipeline, so we can reuse it for other model types:\n",
        "# We have only numeric data, so there is no need for a column transformer.  \n",
        "# We can perform the same processing steps on all columns.\n",
        "processing = make_pipeline(scaler, pca)\n",
        "\n",
        "print('Shape before PCA:', x_train.shape)\n",
        "print('Shape after PCA:', processing.fit_transform(x_train).shape)\n",
        "print('Column count reduced by: ', x_train.shape[1] - processing.fit_transform(x_train).shape[1])"
      ],
      "metadata": {
        "id": "IPl1beICRY5Z",
        "colab": {
          "base_uri": "https://localhost:8080/"
        },
        "outputId": "0b3e83fc-47d9-4b50-f982-c4e9faeb28c0"
      },
      "execution_count": 257,
      "outputs": [
        {
          "output_type": "stream",
          "name": "stdout",
          "text": [
            "Shape before PCA: (400, 5)\n",
            "Shape after PCA: (400, 5)\n",
            "Column count reduced by:  0\n"
          ]
        }
      ]
    },
    {
      "cell_type": "markdown",
      "source": [
        "- The columns remained the same while retaining 95% of the information (variance) of the original features."
      ],
      "metadata": {
        "id": "2dO3zySCU825"
      }
    },
    {
      "cell_type": "code",
      "source": [
        "from sklearn.metrics import classification_report, confusion_matrix\n",
        "from seaborn import heatmap\n",
        "\n",
        "def eval_classification(model, X_train, X_test, y_train, y_test):\n",
        "  print('Train Report:', classification_report(y_train, model.predict(X_train)))\n",
        "  print('Test Report:', classification_report(y_test, model.predict(X_test)))\n",
        "\n",
        "  cm = confusion_matrix(y_test, model.predict(X_test))\n",
        "\n",
        "  plt.figure(figsize=(15, 15))\n",
        "  heatmap(cm, annot=True)\n",
        "  plt.xlabel('Predicted', fontsize=40)\n",
        "  plt.ylabel('True', fontsize=40)\n",
        "  plt.show()"
      ],
      "metadata": {
        "id": "Mv6pP2ZaVBs8"
      },
      "execution_count": 258,
      "outputs": []
    },
    {
      "cell_type": "markdown",
      "source": [
        "- R2 score model perfomed based across all models deeming it the best production model. It performed at an accurary of 99% vs 96% and 86%. "
      ],
      "metadata": {
        "id": "U7Oo5cMwXfIR"
      }
    },
    {
      "cell_type": "markdown",
      "source": [
        "# Recommendation\n",
        "\n",
        "-  The company should focus on older population with Higher Annual salary."
      ],
      "metadata": {
        "id": "QcZAwYtgXQwu"
      }
    }
  ]
}